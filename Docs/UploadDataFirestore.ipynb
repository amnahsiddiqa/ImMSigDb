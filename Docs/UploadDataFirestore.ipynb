{
 "cells": [
  {
   "cell_type": "markdown",
   "id": "a22b5d31-9ceb-4d9a-a11e-e615b816d72d",
   "metadata": {},
   "source": [
    "## Upload data To Firestore from JSON"
   ]
  },
  {
   "cell_type": "code",
   "execution_count": 1,
   "id": "894ab1c9-89c9-43ed-98a8-81ff2133c0f6",
   "metadata": {},
   "outputs": [],
   "source": [
    "import os\n",
    "import firebase_admin\n",
    "import google.cloud\n",
    "from firebase_admin import credentials, firestore\n",
    "import pandas as pd\n",
    "import json"
   ]
  },
  {
   "cell_type": "code",
   "execution_count": 4,
   "id": "543ab21d-e54d-4ef2-aed0-dc9e53fd477a",
   "metadata": {},
   "outputs": [],
   "source": [
    "import os\n",
    "import json\n",
    "import firebase_admin\n",
    "from firebase_admin import credentials, firestore\n",
    "\n",
    "# Check if Firebase app is already initialized\n",
    "if not firebase_admin._apps:\n",
    "    # Initialize Firebase with the service account key\n",
    "    cred = credentials.Certificate(\"/path/to/your/key.json\")\n",
    "    app = firebase_admin.initialize_app(cred)\n",
    "\n",
    "# Create a Firestore client\n",
    "store = firestore.client()\n",
    "\n",
    "# Specify the path to your JSON file\n",
    "json_file_path = '/Users/amnahsiddiqa/Documents/Git/testAngular/TestUploadJson2FireSTore/Monaco/ICSD_Monco_Genesets.json'\n",
    "\n",
    "# Check if the JSON file exists\n",
    "if os.path.exists(json_file_path):\n",
    "    x = os.path.splitext(os.path.basename(json_file_path))[0]\n",
    "    Data = json.load(open(json_file_path))\n",
    "\n",
    "    # Add key-value pairs to Firestore\n",
    "    for m_id, m_info in Data.items():\n",
    "        doc_ref = store.collection(x).document(m_id).set(m_info)\n",
    "else:\n",
    "    print(f\"The JSON file '{json_file_path}' does not exist.\")\n"
   ]
  },
  {
   "cell_type": "code",
   "execution_count": null,
   "id": "e1c3bc38-7c2b-40f3-b92d-f72c9d13de43",
   "metadata": {},
   "outputs": [],
   "source": []
  }
 ],
 "metadata": {
  "kernelspec": {
   "display_name": "Python 3 (ipykernel)",
   "language": "python",
   "name": "python3"
  },
  "language_info": {
   "codemirror_mode": {
    "name": "ipython",
    "version": 3
   },
   "file_extension": ".py",
   "mimetype": "text/x-python",
   "name": "python",
   "nbconvert_exporter": "python",
   "pygments_lexer": "ipython3",
   "version": "3.11.5"
  }
 },
 "nbformat": 4,
 "nbformat_minor": 5
}
