{
 "cells": [
  {
   "cell_type": "code",
   "execution_count": 1,
   "metadata": {},
   "outputs": [],
   "source": [
    "import os\n",
    "import pandas as pd\n",
    "import json "
   ]
  },
  {
   "cell_type": "markdown",
   "metadata": {},
   "source": [
    "### Convert to json "
   ]
  },
  {
   "cell_type": "code",
   "execution_count": 2,
   "metadata": {},
   "outputs": [
    {
     "name": "stdout",
     "output_type": "stream",
     "text": [
      "/Users/momo/Documents/JaxProjects/DatabaseProject/Manoco_2019/JsonFilesUploaded/ICSD_Monco_Genesets.json\n",
      "ICSD_Monco_Genesets.json\n"
     ]
    }
   ],
   "source": [
    "\n",
    "directory = r'/Users/momo/Documents/JaxProjects/DatabaseProject/Manoco_2019/CleanData/'\n",
    "for filename in os.listdir(directory):\n",
    "    if filename.endswith(\".tsv\"): #or filename.endswith(\".png\"):\n",
    "        #print(os.path.join(directory, filename))\n",
    "\n",
    "        PathFile=os.path.join(directory, filename)\n",
    "        df = pd.read_csv(PathFile,delimiter=\"\\t\", index_col=0 )\n",
    "        df.head()\n",
    "        d=df.to_dict(orient='index')\n",
    "\n",
    "\n",
    "        JsonPath=\"/Users/momo/Documents/JaxProjects/DatabaseProject/Manoco_2019/JsonFilesUploaded\"\n",
    "        x = filename.split(\".\")[0]\n",
    "        x=x + \".json\"\n",
    "        JsonFileName=os.path.join( JsonPath, x )\n",
    "        print(JsonFileName)\n",
    "        print(x)\n",
    "        json.dump(d, open(JsonFileName,'w'))\n",
    "\n",
    "\n",
    "    else:\n",
    "        continue\n",
    "    "
   ]
  },
  {
   "cell_type": "markdown",
   "metadata": {},
   "source": [
    "### "
   ]
  },
  {
   "cell_type": "code",
   "execution_count": 4,
   "metadata": {},
   "outputs": [
    {
     "data": {
      "text/html": [
       "<div>\n",
       "<style scoped>\n",
       "    .dataframe tbody tr th:only-of-type {\n",
       "        vertical-align: middle;\n",
       "    }\n",
       "\n",
       "    .dataframe tbody tr th {\n",
       "        vertical-align: top;\n",
       "    }\n",
       "\n",
       "    .dataframe thead th {\n",
       "        text-align: right;\n",
       "    }\n",
       "</style>\n",
       "<table border=\"1\" class=\"dataframe\">\n",
       "  <thead>\n",
       "    <tr style=\"text-align: right;\">\n",
       "      <th></th>\n",
       "      <th>ICSD_ID</th>\n",
       "      <th>CellType</th>\n",
       "      <th>MemberGenes</th>\n",
       "    </tr>\n",
       "    <tr>\n",
       "      <th>ID_New</th>\n",
       "      <th></th>\n",
       "      <th></th>\n",
       "      <th></th>\n",
       "    </tr>\n",
       "  </thead>\n",
       "  <tbody>\n",
       "    <tr>\n",
       "      <th>MonacoGS__1</th>\n",
       "      <td>MonacoGS__1</td>\n",
       "      <td>APC</td>\n",
       "      <td>UBE2E2</td>\n",
       "    </tr>\n",
       "    <tr>\n",
       "      <th>MonacoGS__2</th>\n",
       "      <td>MonacoGS__2</td>\n",
       "      <td>B cells</td>\n",
       "      <td>IGLVI-70,POU2AF1,CPNE5,IGHJ3P,IGLV5-37</td>\n",
       "    </tr>\n",
       "    <tr>\n",
       "      <th>MonacoGS__3</th>\n",
       "      <td>MonacoGS__3</td>\n",
       "      <td>B Ex</td>\n",
       "      <td>FCRL5,CTD-2232E5.2,MOXD1,PPP1R14A</td>\n",
       "    </tr>\n",
       "    <tr>\n",
       "      <th>MonacoGS__4</th>\n",
       "      <td>MonacoGS__4</td>\n",
       "      <td>B Ex+SM</td>\n",
       "      <td>IGHE,AL928768.3,PARM1,2-Mar,RP11-16E12.2</td>\n",
       "    </tr>\n",
       "    <tr>\n",
       "      <th>MonacoGS__5</th>\n",
       "      <td>MonacoGS__5</td>\n",
       "      <td>B Memory</td>\n",
       "      <td>RP11-444D3.1,TNFRSF13B,DOK7,ZBTB32</td>\n",
       "    </tr>\n",
       "  </tbody>\n",
       "</table>\n",
       "</div>"
      ],
      "text/plain": [
       "                 ICSD_ID  CellType                               MemberGenes\n",
       "ID_New                                                                      \n",
       "MonacoGS__1  MonacoGS__1       APC                                    UBE2E2\n",
       "MonacoGS__2  MonacoGS__2   B cells    IGLVI-70,POU2AF1,CPNE5,IGHJ3P,IGLV5-37\n",
       "MonacoGS__3  MonacoGS__3      B Ex         FCRL5,CTD-2232E5.2,MOXD1,PPP1R14A\n",
       "MonacoGS__4  MonacoGS__4   B Ex+SM  IGHE,AL928768.3,PARM1,2-Mar,RP11-16E12.2\n",
       "MonacoGS__5  MonacoGS__5  B Memory        RP11-444D3.1,TNFRSF13B,DOK7,ZBTB32"
      ]
     },
     "execution_count": 4,
     "metadata": {},
     "output_type": "execute_result"
    }
   ],
   "source": [
    "df.head()"
   ]
  },
  {
   "cell_type": "code",
   "execution_count": null,
   "metadata": {},
   "outputs": [],
   "source": [
    "\n",
    "\n",
    "for filename in os.listdir(directory):\n",
    "    if filename.endswith(\".tsv\"): #or filename.endswith(\".png\"):\n",
    "        #print(os.path.join(directory, filename))\n",
    "\n",
    "        PathFile=os.path.join(directory, filename)\n",
    "        df = pd.read_csv(PathFile,delimiter=\"\\t\", index_col=0 )\n",
    "        #df.head()\n",
    "        d=df.to_dict(orient='index')\n",
    "\n",
    "        JsonPath=\"/Users/momo/Documents/JaxProjects/DatabaseProject/Manoco_2019/JsonFilesUploaded\"\n",
    "        x = filename.split(\".\")[2]\n",
    "        x=x + \".json\"\n",
    "        JsonFileName=os.path.join( JsonPath, x )\n",
    "        print(JsonFileName)\n",
    "        json.dump(d, open(JsonFileName,'w'))\n",
    "\n",
    "\n",
    "    else:\n",
    "        continue\n"
   ]
  },
  {
   "cell_type": "code",
   "execution_count": null,
   "metadata": {},
   "outputs": [],
   "source": []
  }
 ],
 "metadata": {
  "kernelspec": {
   "display_name": "Python 3",
   "language": "python",
   "name": "python3"
  },
  "language_info": {
   "codemirror_mode": {
    "name": "ipython",
    "version": 3
   },
   "file_extension": ".py",
   "mimetype": "text/x-python",
   "name": "python",
   "nbconvert_exporter": "python",
   "pygments_lexer": "ipython3",
   "version": "3.7.6"
  }
 },
 "nbformat": 4,
 "nbformat_minor": 4
}
